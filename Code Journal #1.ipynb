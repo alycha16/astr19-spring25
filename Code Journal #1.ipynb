{
 "cells": [
  {
   "cell_type": "code",
   "execution_count": 26,
   "id": "5ecdc1d8",
   "metadata": {},
   "outputs": [],
   "source": [
    "import math\n",
    "\n",
    "def sin_function(x):\n",
    "    \"\"\"\n",
    "    Returns the sine of x.\n",
    "    \"\"\"\n",
    "    return math.sin(x)"
   ]
  },
  {
   "cell_type": "code",
   "execution_count": 27,
   "id": "5fad1a86",
   "metadata": {},
   "outputs": [],
   "source": [
    "def cos_function(x):\n",
    "    \"\"\"\n",
    "    Returns the cosine of x.\n",
    "    \"\"\"\n",
    "    return math.cos(x)"
   ]
  },
  {
   "cell_type": "code",
   "execution_count": 28,
   "id": "5aa3d663",
   "metadata": {},
   "outputs": [],
   "source": [
    "import numpy as np\n",
    "\n",
    "x_values = np.linspace(0, 2, 1000)\n",
    "sin_values = [sin_function(x) for x in x_values]\n",
    "cos_values = [cos_function(x) for x in x_values]"
   ]
  },
  {
   "cell_type": "code",
   "execution_count": 29,
   "id": "a8091b5a",
   "metadata": {},
   "outputs": [
    {
     "name": "stdout",
     "output_type": "stream",
     "text": [
      "x\t\t sin(x)\t\t cos(x)\n",
      "----------------------------------------\n",
      "0.00000\t 0.00000\t 1.00000\n",
      "0.00200\t 0.00200\t 1.00000\n",
      "0.00400\t 0.00400\t 0.99999\n",
      "0.00601\t 0.00601\t 0.99998\n",
      "0.00801\t 0.00801\t 0.99997\n",
      "0.01001\t 0.01001\t 0.99995\n",
      "0.01201\t 0.01201\t 0.99993\n",
      "0.01401\t 0.01401\t 0.99990\n",
      "0.01602\t 0.01602\t 0.99987\n",
      "0.01802\t 0.01802\t 0.99984\n"
     ]
    }
   ],
   "source": [
    "print(\"x\\t\\t sin(x)\\t\\t cos(x)\")\n",
    "print(\"-\" * 40)\n",
    "for i in range(10):\n",
    "    print(f\"{x_values[i]:.5f}\\t {sin_values[i]:.5f}\\t {cos_values[i]:.5f}\")"
   ]
  }
 ],
 "metadata": {
  "kernelspec": {
   "display_name": "Python 3",
   "language": "python",
   "name": "python3"
  },
  "language_info": {
   "codemirror_mode": {
    "name": "ipython",
    "version": 3
   },
   "file_extension": ".py",
   "mimetype": "text/x-python",
   "name": "python",
   "nbconvert_exporter": "python",
   "pygments_lexer": "ipython3",
   "version": "3.13.3"
  }
 },
 "nbformat": 4,
 "nbformat_minor": 5
}
